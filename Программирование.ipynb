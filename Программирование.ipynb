{
 "cells": [
  {
   "cell_type": "markdown",
   "id": "798f758c",
   "metadata": {},
   "source": [
    "# Зачётная работа"
   ]
  },
  {
   "cell_type": "markdown",
   "id": "43d3dad9",
   "metadata": {},
   "source": [
    "Виничук Тимофей Николаевич"
   ]
  },
  {
   "cell_type": "markdown",
   "id": "70c5132c",
   "metadata": {},
   "source": [
    "## 4. Численное интегрирование. Светимость черного тела"
   ]
  },
  {
   "cell_type": "code",
   "execution_count": 20,
   "id": "8d83c486",
   "metadata": {},
   "outputs": [],
   "source": [
    "import numpy as np\n",
    "import matplotlib.pyplot as plt\n",
    "%matplotlib inline"
   ]
  },
  {
   "cell_type": "markdown",
   "id": "4addf216",
   "metadata": {},
   "source": [
    "#### 1. Постройте для Солнца график зависимости $\\varphi(\\lambda, T)$ от $\\lambda$"
   ]
  },
  {
   "cell_type": "code",
   "execution_count": 21,
   "id": "febdad3f",
   "metadata": {},
   "outputs": [],
   "source": [
    "h=6.6261*10**-34\n",
    "k=1.3806*10**-23\n",
    "c=2.9979*10**8\n",
    "T=5778"
   ]
  },
  {
   "cell_type": "code",
   "execution_count": 22,
   "id": "0f76127f",
   "metadata": {},
   "outputs": [
    {
     "data": {
      "image/png": "[encoded data removed]",
      "text/plain": [
       "<Figure size 432x288 with 1 Axes>"
      ]
     },
     "metadata": {
      "needs_background": "light"
     },
     "output_type": "display_data"
    }
   ],
   "source": [
    "x = np.linspace(1*10**-7,30*10**-7,100)\n",
    "y=2*np.pi*h*c*c/((x**5)*(np.e**(h*c/(x*k*T))-1))\n",
    "plt.plot (x,y)\n",
    "pass"
   ]
  },
  {
   "cell_type": "markdown",
   "id": "b273117e",
   "metadata": {},
   "source": [
    "#### 2. С помощью численного интегрирования найдите светимость Солнца на видимой области длин волн, т.е. для $\\lambda$ в диапозоне от  $\\lambda_1=3.5\\times 10^{-17}$ до  $\\lambda_2=7\\times 10^{-17}$"
   ]
  },
  {
   "cell_type": "markdown",
   "id": "fc5c07ca",
   "metadata": {},
   "source": [
    "Правило прямоугольника"
   ]
  },
  {
   "cell_type": "code",
   "execution_count": 23,
   "id": "a82d0573",
   "metadata": {},
   "outputs": [
    {
     "data": {
      "text/plain": [
       "26456374.429090716"
      ]
     },
     "execution_count": 23,
     "metadata": {},
     "output_type": "execute_result"
    }
   ],
   "source": [
    "from scipy import integrate\n",
    "a = 3.5 * (10**(-7))\n",
    "b = 7 * (10**(-7))\n",
    "n = 100\n",
    "h1 = (b - a)/n\n",
    "x = np.arange(a + h1/2, b, h1)\n",
    "y = 2*np.pi*h*c**2/((x**5)*((np.e**((h*c)/(x*k*T))-1)))\n",
    "I_rect = h1*sum(y)\n",
    "I_rect"
   ]
  },
  {
   "cell_type": "markdown",
   "id": "09676ac8",
   "metadata": {},
   "source": [
    "Правило трапеции"
   ]
  },
  {
   "cell_type": "code",
   "execution_count": 24,
   "id": "12b6eaeb",
   "metadata": {},
   "outputs": [
    {
     "data": {
      "text/plain": [
       "26239134.004388973"
      ]
     },
     "execution_count": 24,
     "metadata": {},
     "output_type": "execute_result"
    }
   ],
   "source": [
    "I_trapz = integrate.trapz(y, x)\n",
    "I_trapz"
   ]
  },
  {
   "cell_type": "code",
   "execution_count": null,
   "id": "1a600794",
   "metadata": {},
   "outputs": [],
   "source": [
    "Правило Симпсона"
   ]
  },
  {
   "cell_type": "code",
   "execution_count": 27,
   "id": "8940035b",
   "metadata": {},
   "outputs": [
    {
     "data": {
      "text/plain": [
       "26239611.853874616"
      ]
     },
     "execution_count": 27,
     "metadata": {},
     "output_type": "execute_result"
    }
   ],
   "source": [
    "I_simps = integrate.simps(y, x)\n",
    "I_simps"
   ]
  },
  {
   "cell_type": "markdown",
   "id": "4e608834",
   "metadata": {},
   "source": [
    "#### 3. Найдите также светимость Солнца для всех длин волн: от $0$   до $\\infty $"
   ]
  },
  {
   "cell_type": "code",
   "execution_count": 28,
   "id": "9c95cbf1",
   "metadata": {},
   "outputs": [
    {
     "name": "stderr",
     "output_type": "stream",
     "text": [
      "C:\\Windows\\TEMP/ipykernel_1608/1560965361.py:4: IntegrationWarning: The algorithm does not converge.  Roundoff error is detected\n",
      "  in the extrapolation table.  It is assumed that the requested tolerance\n",
      "  cannot be achieved, and that the returned result (if full_output = 1) is \n",
      "  the best which can be obtained.\n",
      "  I, abserr = integrate.quad(integrand, 0, np.inf)\n"
     ]
    },
    {
     "data": {
      "text/plain": [
       "62936791.375977986"
      ]
     },
     "execution_count": 28,
     "metadata": {},
     "output_type": "execute_result"
    }
   ],
   "source": [
    "\n",
    "def integrand (x):\n",
    "  return (2*np.pi*h*c**2)/(x**5*(np.e**((h*c)/(x*k*T)) - 1))\n",
    "\n",
    "I, abserr = integrate.quad(integrand, 0, np.inf)\n",
    "I "
   ]
  },
  {
   "cell_type": "code",
   "execution_count": 29,
   "id": "e0aeb5d4",
   "metadata": {},
   "outputs": [
    {
     "data": {
      "text/plain": [
       "3.8278813588378646e+26"
      ]
     },
     "execution_count": 29,
     "metadata": {},
     "output_type": "execute_result"
    }
   ],
   "source": [
    "R = 6.957 * 10**8\n",
    "an1 = I * 4 * np.pi * R**2\n",
    "an1"
   ]
  },
  {
   "cell_type": "markdown",
   "id": "20ea8a45",
   "metadata": {},
   "source": [
    "#### 4. Закон Стефана–Больцмана."
   ]
  },
  {
   "cell_type": "code",
   "execution_count": 30,
   "id": "686a7cce",
   "metadata": {},
   "outputs": [
    {
     "data": {
      "text/plain": [
       "3.843397958410175e+26"
      ]
     },
     "execution_count": 30,
     "metadata": {},
     "output_type": "execute_result"
    }
   ],
   "source": [
    "D=2*(np.pi**5)*(k**4)/(15*(c**2)*(h**3))\n",
    "Rsv=D*T**4\n",
    "an2=Rsv * 4 * np.pi * R**2\n",
    "an2"
   ]
  },
  {
   "cell_type": "markdown",
   "id": "8a919d75",
   "metadata": {},
   "source": [
    "#### 5. Солнечная постоянная"
   ]
  },
  {
   "cell_type": "markdown",
   "id": "bb190afb",
   "metadata": {},
   "source": [
    "Найдите так называемую солнечную постоянную – мощность солнечного излучения, падающего перпендикулярно на единичную площадку на высоте верхней границы атмосферы Земли. Вам пригодится расстояние от Солна до Земли: \n",
    " $149.6\\times 10^{9}$м"
   ]
  },
  {
   "cell_type": "code",
   "execution_count": 48,
   "id": "381cabcd",
   "metadata": {},
   "outputs": [],
   "source": [
    "r=149.6*10**9"
   ]
  },
  {
   "cell_type": "markdown",
   "id": "a8cdf1b2",
   "metadata": {},
   "source": [
    "Солнечная постоянная равна интергальной светимости деленной на площадь сферы с радиусом в 1 а.е. (r)"
   ]
  },
  {
   "cell_type": "code",
   "execution_count": 51,
   "id": "08324687",
   "metadata": {},
   "outputs": [
    {
     "data": {
      "text/plain": [
       "1361.0855325171208"
      ]
     },
     "execution_count": 51,
     "metadata": {},
     "output_type": "execute_result"
    }
   ],
   "source": [
    "Q=an1/(4*np.pi*r**2)\n",
    "Q"
   ]
  },
  {
   "cell_type": "markdown",
   "id": "3af8fe09",
   "metadata": {},
   "source": [
    "#### 6. Значения из литературы"
   ]
  },
  {
   "cell_type": "markdown",
   "id": "70a579dc",
   "metadata": {},
   "source": [
    "Из материалов Академика и Википедии:  \n",
    "солнечная светимость = $3.827 \\times 10^{26} Вт$  \n",
    "солнечная постоянная = $1360 Вт/м^{2}$  \n",
    "Полученное мной значение Солнечной постоянной чуть больше, светимость же близка.\n",
    "Другие значения попросту не нашел."
   ]
  },
  {
   "cell_type": "markdown",
   "id": "9ebe2d13",
   "metadata": {},
   "source": [
    "#### 7.Выводы "
   ]
  },
  {
   "cell_type": "markdown",
   "id": "829d2f44",
   "metadata": {},
   "source": [
    "1. Учитывая значения из источников, значения, найденные мной довольно близки.  \n",
    "2. Взависимости от метода интегрирования (а я использовал все из приведенной преподавателем статьи) результат может быть разным, точнее всего, наверное, Метод Симпсона (хотя все результаты близки).\n",
    "3. Наверное, основной вывод - это работоспосбоность формул и методов, предоставляемых питоном и юпитером.\n"
   ]
  }
 ],
 "metadata": {
  "kernelspec": {
   "display_name": "Python 3 (ipykernel)",
   "language": "python",
   "name": "python3"
  },
  "language_info": {
   "codemirror_mode": {
    "name": "ipython",
    "version": 3
   },
   "file_extension": ".py",
   "mimetype": "text/x-python",
   "name": "python",
   "nbconvert_exporter": "python",
   "pygments_lexer": "ipython3",
   "version": "3.9.7"
  }
 },
 "nbformat": 4,
 "nbformat_minor": 5
}
